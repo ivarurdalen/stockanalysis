{
 "cells": [
  {
   "cell_type": "code",
   "execution_count": 1,
   "metadata": {},
   "outputs": [],
   "source": [
    "import sqlite3\n",
    "import pandas as pd\n",
    "import talib as ta"
   ]
  },
  {
   "cell_type": "code",
   "execution_count": 2,
   "metadata": {},
   "outputs": [],
   "source": [
    "\n",
    "con = sqlite3.connect(\"../data/stockanalysis.db\")\n"
   ]
  },
  {
   "cell_type": "code",
   "execution_count": 3,
   "metadata": {},
   "outputs": [],
   "source": [
    "\n",
    "# df = pd.read_sql(\"prices\", con, index_col=\"Date\", parse_dates=[\"Date\"])\n",
    "df = pd.read_sql_query(\"SELECT * from prices\", con, index_col=\"Date\", parse_dates=[\"Date\"])"
   ]
  },
  {
   "cell_type": "code",
   "execution_count": 4,
   "metadata": {},
   "outputs": [],
   "source": [
    "dff = df[df[\"ticker\"] == \"EQNR.OL\"].iloc[:,1:]"
   ]
  },
  {
   "cell_type": "code",
   "execution_count": 5,
   "metadata": {},
   "outputs": [
    {
     "data": {
      "text/html": [
       "<div>\n",
       "<style scoped>\n",
       "    .dataframe tbody tr th:only-of-type {\n",
       "        vertical-align: middle;\n",
       "    }\n",
       "\n",
       "    .dataframe tbody tr th {\n",
       "        vertical-align: top;\n",
       "    }\n",
       "\n",
       "    .dataframe thead th {\n",
       "        text-align: right;\n",
       "    }\n",
       "</style>\n",
       "<table border=\"1\" class=\"dataframe\">\n",
       "  <thead>\n",
       "    <tr style=\"text-align: right;\">\n",
       "      <th></th>\n",
       "      <th>Open</th>\n",
       "      <th>High</th>\n",
       "      <th>Low</th>\n",
       "      <th>Close</th>\n",
       "      <th>Adj Close</th>\n",
       "      <th>Volume</th>\n",
       "    </tr>\n",
       "    <tr>\n",
       "      <th>Date</th>\n",
       "      <th></th>\n",
       "      <th></th>\n",
       "      <th></th>\n",
       "      <th></th>\n",
       "      <th></th>\n",
       "      <th></th>\n",
       "    </tr>\n",
       "  </thead>\n",
       "  <tbody>\n",
       "    <tr>\n",
       "      <th>2018-01-02</th>\n",
       "      <td>178.949997</td>\n",
       "      <td>178.949997</td>\n",
       "      <td>176.300003</td>\n",
       "      <td>177.449997</td>\n",
       "      <td>149.972763</td>\n",
       "      <td>2538853</td>\n",
       "    </tr>\n",
       "    <tr>\n",
       "      <th>2018-01-03</th>\n",
       "      <td>178.699997</td>\n",
       "      <td>179.949997</td>\n",
       "      <td>177.850006</td>\n",
       "      <td>179.699997</td>\n",
       "      <td>151.874344</td>\n",
       "      <td>2306793</td>\n",
       "    </tr>\n",
       "    <tr>\n",
       "      <th>2018-01-04</th>\n",
       "      <td>181.300003</td>\n",
       "      <td>182.399994</td>\n",
       "      <td>181.300003</td>\n",
       "      <td>182.250000</td>\n",
       "      <td>154.029465</td>\n",
       "      <td>3138505</td>\n",
       "    </tr>\n",
       "    <tr>\n",
       "      <th>2018-01-05</th>\n",
       "      <td>182.250000</td>\n",
       "      <td>182.699997</td>\n",
       "      <td>181.250000</td>\n",
       "      <td>182.300003</td>\n",
       "      <td>154.071701</td>\n",
       "      <td>2909928</td>\n",
       "    </tr>\n",
       "    <tr>\n",
       "      <th>2018-01-08</th>\n",
       "      <td>182.000000</td>\n",
       "      <td>183.449997</td>\n",
       "      <td>181.199997</td>\n",
       "      <td>182.899994</td>\n",
       "      <td>154.578842</td>\n",
       "      <td>2350354</td>\n",
       "    </tr>\n",
       "  </tbody>\n",
       "</table>\n",
       "</div>"
      ],
      "text/plain": [
       "                  Open        High         Low       Close   Adj Close  \\\n",
       "Date                                                                     \n",
       "2018-01-02  178.949997  178.949997  176.300003  177.449997  149.972763   \n",
       "2018-01-03  178.699997  179.949997  177.850006  179.699997  151.874344   \n",
       "2018-01-04  181.300003  182.399994  181.300003  182.250000  154.029465   \n",
       "2018-01-05  182.250000  182.699997  181.250000  182.300003  154.071701   \n",
       "2018-01-08  182.000000  183.449997  181.199997  182.899994  154.578842   \n",
       "\n",
       "             Volume  \n",
       "Date                 \n",
       "2018-01-02  2538853  \n",
       "2018-01-03  2306793  \n",
       "2018-01-04  3138505  \n",
       "2018-01-05  2909928  \n",
       "2018-01-08  2350354  "
      ]
     },
     "execution_count": 5,
     "metadata": {},
     "output_type": "execute_result"
    }
   ],
   "source": [
    "dff.head()"
   ]
  },
  {
   "cell_type": "code",
   "execution_count": 6,
   "metadata": {},
   "outputs": [],
   "source": [
    "dff[\"RSI\"] = ta.RSI(dff[\"Close\"], 14)"
   ]
  },
  {
   "cell_type": "code",
   "execution_count": 7,
   "metadata": {},
   "outputs": [
    {
     "data": {
      "text/html": [
       "<div>\n",
       "<style scoped>\n",
       "    .dataframe tbody tr th:only-of-type {\n",
       "        vertical-align: middle;\n",
       "    }\n",
       "\n",
       "    .dataframe tbody tr th {\n",
       "        vertical-align: top;\n",
       "    }\n",
       "\n",
       "    .dataframe thead th {\n",
       "        text-align: right;\n",
       "    }\n",
       "</style>\n",
       "<table border=\"1\" class=\"dataframe\">\n",
       "  <thead>\n",
       "    <tr style=\"text-align: right;\">\n",
       "      <th></th>\n",
       "      <th>Open</th>\n",
       "      <th>High</th>\n",
       "      <th>Low</th>\n",
       "      <th>Close</th>\n",
       "      <th>Adj Close</th>\n",
       "      <th>Volume</th>\n",
       "      <th>RSI</th>\n",
       "    </tr>\n",
       "    <tr>\n",
       "      <th>Date</th>\n",
       "      <th></th>\n",
       "      <th></th>\n",
       "      <th></th>\n",
       "      <th></th>\n",
       "      <th></th>\n",
       "      <th></th>\n",
       "      <th></th>\n",
       "    </tr>\n",
       "  </thead>\n",
       "  <tbody>\n",
       "    <tr>\n",
       "      <th>2022-11-08</th>\n",
       "      <td>391.149994</td>\n",
       "      <td>392.350006</td>\n",
       "      <td>379.250000</td>\n",
       "      <td>379.750000</td>\n",
       "      <td>379.536438</td>\n",
       "      <td>3101656</td>\n",
       "      <td>53.745010</td>\n",
       "    </tr>\n",
       "    <tr>\n",
       "      <th>2022-11-09</th>\n",
       "      <td>378.649994</td>\n",
       "      <td>381.200012</td>\n",
       "      <td>373.649994</td>\n",
       "      <td>374.850006</td>\n",
       "      <td>374.639191</td>\n",
       "      <td>2871781</td>\n",
       "      <td>50.117435</td>\n",
       "    </tr>\n",
       "    <tr>\n",
       "      <th>2022-11-10</th>\n",
       "      <td>366.899994</td>\n",
       "      <td>371.500000</td>\n",
       "      <td>357.750000</td>\n",
       "      <td>355.649994</td>\n",
       "      <td>355.449982</td>\n",
       "      <td>4314253</td>\n",
       "      <td>39.007388</td>\n",
       "    </tr>\n",
       "    <tr>\n",
       "      <th>2022-11-11</th>\n",
       "      <td>356.500000</td>\n",
       "      <td>358.750000</td>\n",
       "      <td>348.750000</td>\n",
       "      <td>350.799988</td>\n",
       "      <td>350.799988</td>\n",
       "      <td>4450260</td>\n",
       "      <td>36.788841</td>\n",
       "    </tr>\n",
       "    <tr>\n",
       "      <th>2022-11-14</th>\n",
       "      <td>349.750000</td>\n",
       "      <td>355.450012</td>\n",
       "      <td>348.950012</td>\n",
       "      <td>354.000000</td>\n",
       "      <td>354.000000</td>\n",
       "      <td>3710872</td>\n",
       "      <td>39.244138</td>\n",
       "    </tr>\n",
       "  </tbody>\n",
       "</table>\n",
       "</div>"
      ],
      "text/plain": [
       "                  Open        High         Low       Close   Adj Close  \\\n",
       "Date                                                                     \n",
       "2022-11-08  391.149994  392.350006  379.250000  379.750000  379.536438   \n",
       "2022-11-09  378.649994  381.200012  373.649994  374.850006  374.639191   \n",
       "2022-11-10  366.899994  371.500000  357.750000  355.649994  355.449982   \n",
       "2022-11-11  356.500000  358.750000  348.750000  350.799988  350.799988   \n",
       "2022-11-14  349.750000  355.450012  348.950012  354.000000  354.000000   \n",
       "\n",
       "             Volume        RSI  \n",
       "Date                            \n",
       "2022-11-08  3101656  53.745010  \n",
       "2022-11-09  2871781  50.117435  \n",
       "2022-11-10  4314253  39.007388  \n",
       "2022-11-11  4450260  36.788841  \n",
       "2022-11-14  3710872  39.244138  "
      ]
     },
     "execution_count": 7,
     "metadata": {},
     "output_type": "execute_result"
    }
   ],
   "source": [
    "dff.tail()"
   ]
  }
 ],
 "metadata": {
  "kernelspec": {
   "display_name": "Python 3.9.13 ('.venv': venv)",
   "language": "python",
   "name": "python3"
  },
  "language_info": {
   "codemirror_mode": {
    "name": "ipython",
    "version": 3
   },
   "file_extension": ".py",
   "mimetype": "text/x-python",
   "name": "python",
   "nbconvert_exporter": "python",
   "pygments_lexer": "ipython3",
   "version": "3.9.13"
  },
  "orig_nbformat": 4,
  "vscode": {
   "interpreter": {
    "hash": "c75df47957a3f7d220ad1ad13a79330d29fea916a505b932fb7a4013868fe595"
   }
  }
 },
 "nbformat": 4,
 "nbformat_minor": 2
}
