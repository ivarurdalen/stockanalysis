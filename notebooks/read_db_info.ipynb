{
 "cells": [
  {
   "cell_type": "code",
   "execution_count": 8,
   "metadata": {},
   "outputs": [],
   "source": [
    "import sqlite3\n",
    "import pandas as pd"
   ]
  },
  {
   "cell_type": "code",
   "execution_count": 3,
   "metadata": {},
   "outputs": [],
   "source": [
    "con = sqlite3.connect(\"../pages/data/stockanalysis.db\")"
   ]
  },
  {
   "cell_type": "code",
   "execution_count": 4,
   "metadata": {},
   "outputs": [],
   "source": [
    "cursor = con.cursor()"
   ]
  },
  {
   "cell_type": "code",
   "execution_count": 5,
   "metadata": {},
   "outputs": [],
   "source": [
    "# Get number of rows in tickers\n",
    "db_info = {\n",
    "    \"nr_tickers\": cursor.execute(\"SELECT COUNT(*) FROM tickers\").fetchone()[0],\n",
    "    \"nr_rows_prices\": cursor.execute(\"SELECT COUNT(*) FROM prices\").fetchone()[0]\n",
    "}"
   ]
  },
  {
   "cell_type": "code",
   "execution_count": 13,
   "metadata": {},
   "outputs": [],
   "source": [
    "ticker = \"EQNR.OL\"\n",
    "ticker_prices = pd.read_sql_query(f\"SELECT * FROM prices WHERE ticker='{ticker}'\", con, index_col=\"Date\", parse_dates=[\"Date\"])"
   ]
  },
  {
   "cell_type": "code",
   "execution_count": 21,
   "metadata": {},
   "outputs": [
    {
     "data": {
      "text/html": [
       "<div>\n",
       "<style scoped>\n",
       "    .dataframe tbody tr th:only-of-type {\n",
       "        vertical-align: middle;\n",
       "    }\n",
       "\n",
       "    .dataframe tbody tr th {\n",
       "        vertical-align: top;\n",
       "    }\n",
       "\n",
       "    .dataframe thead th {\n",
       "        text-align: right;\n",
       "    }\n",
       "</style>\n",
       "<table border=\"1\" class=\"dataframe\">\n",
       "  <thead>\n",
       "    <tr style=\"text-align: right;\">\n",
       "      <th></th>\n",
       "      <th>Open</th>\n",
       "      <th>High</th>\n",
       "      <th>Low</th>\n",
       "      <th>Close</th>\n",
       "      <th>Adj Close</th>\n",
       "      <th>Volume</th>\n",
       "    </tr>\n",
       "  </thead>\n",
       "  <tbody>\n",
       "    <tr>\n",
       "      <th>count</th>\n",
       "      <td>1224.000000</td>\n",
       "      <td>1224.000000</td>\n",
       "      <td>1224.000000</td>\n",
       "      <td>1224.000000</td>\n",
       "      <td>1224.000000</td>\n",
       "      <td>1.224000e+03</td>\n",
       "    </tr>\n",
       "    <tr>\n",
       "      <th>mean</th>\n",
       "      <td>205.730490</td>\n",
       "      <td>208.294453</td>\n",
       "      <td>203.312745</td>\n",
       "      <td>205.774011</td>\n",
       "      <td>193.563279</td>\n",
       "      <td>3.675718e+06</td>\n",
       "    </tr>\n",
       "    <tr>\n",
       "      <th>std</th>\n",
       "      <td>67.109569</td>\n",
       "      <td>68.415425</td>\n",
       "      <td>65.784680</td>\n",
       "      <td>66.966241</td>\n",
       "      <td>70.121943</td>\n",
       "      <td>1.788226e+06</td>\n",
       "    </tr>\n",
       "    <tr>\n",
       "      <th>min</th>\n",
       "      <td>97.360001</td>\n",
       "      <td>102.150002</td>\n",
       "      <td>95.199997</td>\n",
       "      <td>99.339996</td>\n",
       "      <td>93.071396</td>\n",
       "      <td>0.000000e+00</td>\n",
       "    </tr>\n",
       "    <tr>\n",
       "      <th>25%</th>\n",
       "      <td>165.000000</td>\n",
       "      <td>166.737503</td>\n",
       "      <td>163.437496</td>\n",
       "      <td>164.699997</td>\n",
       "      <td>151.017117</td>\n",
       "      <td>2.603941e+06</td>\n",
       "    </tr>\n",
       "    <tr>\n",
       "      <th>50%</th>\n",
       "      <td>184.989998</td>\n",
       "      <td>186.025002</td>\n",
       "      <td>182.924995</td>\n",
       "      <td>184.500000</td>\n",
       "      <td>169.435616</td>\n",
       "      <td>3.252012e+06</td>\n",
       "    </tr>\n",
       "    <tr>\n",
       "      <th>75%</th>\n",
       "      <td>219.462498</td>\n",
       "      <td>221.825001</td>\n",
       "      <td>217.399994</td>\n",
       "      <td>219.949997</td>\n",
       "      <td>198.514736</td>\n",
       "      <td>4.193024e+06</td>\n",
       "    </tr>\n",
       "    <tr>\n",
       "      <th>max</th>\n",
       "      <td>409.750000</td>\n",
       "      <td>410.950012</td>\n",
       "      <td>400.450012</td>\n",
       "      <td>406.149994</td>\n",
       "      <td>405.578979</td>\n",
       "      <td>1.859687e+07</td>\n",
       "    </tr>\n",
       "  </tbody>\n",
       "</table>\n",
       "</div>"
      ],
      "text/plain": [
       "              Open         High          Low        Close    Adj Close  \\\n",
       "count  1224.000000  1224.000000  1224.000000  1224.000000  1224.000000   \n",
       "mean    205.730490   208.294453   203.312745   205.774011   193.563279   \n",
       "std      67.109569    68.415425    65.784680    66.966241    70.121943   \n",
       "min      97.360001   102.150002    95.199997    99.339996    93.071396   \n",
       "25%     165.000000   166.737503   163.437496   164.699997   151.017117   \n",
       "50%     184.989998   186.025002   182.924995   184.500000   169.435616   \n",
       "75%     219.462498   221.825001   217.399994   219.949997   198.514736   \n",
       "max     409.750000   410.950012   400.450012   406.149994   405.578979   \n",
       "\n",
       "             Volume  \n",
       "count  1.224000e+03  \n",
       "mean   3.675718e+06  \n",
       "std    1.788226e+06  \n",
       "min    0.000000e+00  \n",
       "25%    2.603941e+06  \n",
       "50%    3.252012e+06  \n",
       "75%    4.193024e+06  \n",
       "max    1.859687e+07  "
      ]
     },
     "execution_count": 21,
     "metadata": {},
     "output_type": "execute_result"
    }
   ],
   "source": [
    "ticker_prices.index.rename(\"Date\", inplace=True)\n",
    "ticker_prices"
   ]
  },
  {
   "cell_type": "code",
   "execution_count": 27,
   "metadata": {},
   "outputs": [
    {
     "data": {
      "text/plain": [
       "'2022-11-16'"
      ]
     },
     "execution_count": 27,
     "metadata": {},
     "output_type": "execute_result"
    }
   ],
   "source": [
    "ticker_prices.last(\"1D\").index[0].strftime(\"%Y-%m-%d\")"
   ]
  },
  {
   "cell_type": "code",
   "execution_count": 28,
   "metadata": {},
   "outputs": [
    {
     "data": {
      "text/html": [
       "<div>\n",
       "<style scoped>\n",
       "    .dataframe tbody tr th:only-of-type {\n",
       "        vertical-align: middle;\n",
       "    }\n",
       "\n",
       "    .dataframe tbody tr th {\n",
       "        vertical-align: top;\n",
       "    }\n",
       "\n",
       "    .dataframe thead th {\n",
       "        text-align: right;\n",
       "    }\n",
       "</style>\n",
       "<table border=\"1\" class=\"dataframe\">\n",
       "  <thead>\n",
       "    <tr style=\"text-align: right;\">\n",
       "      <th></th>\n",
       "      <th>ticker</th>\n",
       "      <th>Open</th>\n",
       "      <th>High</th>\n",
       "      <th>Low</th>\n",
       "      <th>Close</th>\n",
       "      <th>Adj Close</th>\n",
       "      <th>Volume</th>\n",
       "    </tr>\n",
       "    <tr>\n",
       "      <th>Date</th>\n",
       "      <th></th>\n",
       "      <th></th>\n",
       "      <th></th>\n",
       "      <th></th>\n",
       "      <th></th>\n",
       "      <th></th>\n",
       "      <th></th>\n",
       "    </tr>\n",
       "  </thead>\n",
       "  <tbody>\n",
       "    <tr>\n",
       "      <th>2018-01-02</th>\n",
       "      <td>EQNR.OL</td>\n",
       "      <td>178.949997</td>\n",
       "      <td>178.949997</td>\n",
       "      <td>176.300003</td>\n",
       "      <td>177.449997</td>\n",
       "      <td>149.846146</td>\n",
       "      <td>2538853</td>\n",
       "    </tr>\n",
       "    <tr>\n",
       "      <th>2018-01-03</th>\n",
       "      <td>EQNR.OL</td>\n",
       "      <td>178.699997</td>\n",
       "      <td>179.949997</td>\n",
       "      <td>177.850006</td>\n",
       "      <td>179.699997</td>\n",
       "      <td>151.746140</td>\n",
       "      <td>2306793</td>\n",
       "    </tr>\n",
       "    <tr>\n",
       "      <th>2018-01-04</th>\n",
       "      <td>EQNR.OL</td>\n",
       "      <td>181.300003</td>\n",
       "      <td>182.399994</td>\n",
       "      <td>181.300003</td>\n",
       "      <td>182.250000</td>\n",
       "      <td>153.899490</td>\n",
       "      <td>3138505</td>\n",
       "    </tr>\n",
       "    <tr>\n",
       "      <th>2018-01-05</th>\n",
       "      <td>EQNR.OL</td>\n",
       "      <td>182.250000</td>\n",
       "      <td>182.699997</td>\n",
       "      <td>181.250000</td>\n",
       "      <td>182.300003</td>\n",
       "      <td>153.941711</td>\n",
       "      <td>2909928</td>\n",
       "    </tr>\n",
       "    <tr>\n",
       "      <th>2018-01-08</th>\n",
       "      <td>EQNR.OL</td>\n",
       "      <td>182.000000</td>\n",
       "      <td>183.449997</td>\n",
       "      <td>181.199997</td>\n",
       "      <td>182.899994</td>\n",
       "      <td>154.448380</td>\n",
       "      <td>2350354</td>\n",
       "    </tr>\n",
       "  </tbody>\n",
       "</table>\n",
       "</div>"
      ],
      "text/plain": [
       "             ticker        Open        High         Low       Close  \\\n",
       "Date                                                                  \n",
       "2018-01-02  EQNR.OL  178.949997  178.949997  176.300003  177.449997   \n",
       "2018-01-03  EQNR.OL  178.699997  179.949997  177.850006  179.699997   \n",
       "2018-01-04  EQNR.OL  181.300003  182.399994  181.300003  182.250000   \n",
       "2018-01-05  EQNR.OL  182.250000  182.699997  181.250000  182.300003   \n",
       "2018-01-08  EQNR.OL  182.000000  183.449997  181.199997  182.899994   \n",
       "\n",
       "             Adj Close   Volume  \n",
       "Date                             \n",
       "2018-01-02  149.846146  2538853  \n",
       "2018-01-03  151.746140  2306793  \n",
       "2018-01-04  153.899490  3138505  \n",
       "2018-01-05  153.941711  2909928  \n",
       "2018-01-08  154.448380  2350354  "
      ]
     },
     "execution_count": 28,
     "metadata": {},
     "output_type": "execute_result"
    }
   ],
   "source": [
    "ticker_prices.head()"
   ]
  }
 ],
 "metadata": {
  "kernelspec": {
   "display_name": "Python 3.9.13 ('.venv': venv)",
   "language": "python",
   "name": "python3"
  },
  "language_info": {
   "codemirror_mode": {
    "name": "ipython",
    "version": 3
   },
   "file_extension": ".py",
   "mimetype": "text/x-python",
   "name": "python",
   "nbconvert_exporter": "python",
   "pygments_lexer": "ipython3",
   "version": "3.9.13"
  },
  "orig_nbformat": 4,
  "vscode": {
   "interpreter": {
    "hash": "c75df47957a3f7d220ad1ad13a79330d29fea916a505b932fb7a4013868fe595"
   }
  }
 },
 "nbformat": 4,
 "nbformat_minor": 2
}
