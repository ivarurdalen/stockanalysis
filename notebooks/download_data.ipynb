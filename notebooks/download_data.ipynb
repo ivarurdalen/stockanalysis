{
 "cells": [
  {
   "cell_type": "code",
   "execution_count": 1,
   "id": "78dee71c-0528-4181-ac17-0b73bf6dab54",
   "metadata": {},
   "outputs": [],
   "source": [
    "import datetime as dt\n",
    "import yfinance as yf\n",
    "import pandas as pd\n",
    "import numpy as np"
   ]
  },
  {
   "cell_type": "code",
   "execution_count": null,
   "id": "a3eec526-582d-4bb9-865e-ab625323f814",
   "metadata": {},
   "outputs": [],
   "source": [
    "tickers = pd.read_csv(\"../data/tickers/oslo_tickers.csv\")\n",
    "tickers"
   ]
  },
  {
   "cell_type": "code",
   "execution_count": 8,
   "id": "2815f3c8-3dca-4639-b075-8a3418b64c92",
   "metadata": {},
   "outputs": [
    {
     "name": "stdout",
     "output_type": "stream",
     "text": [
      "[*********************100%***********************]  1 of 1 completed\n"
     ]
    },
    {
     "data": {
      "text/html": [
       "<div>\n",
       "<style scoped>\n",
       "    .dataframe tbody tr th:only-of-type {\n",
       "        vertical-align: middle;\n",
       "    }\n",
       "\n",
       "    .dataframe tbody tr th {\n",
       "        vertical-align: top;\n",
       "    }\n",
       "\n",
       "    .dataframe thead th {\n",
       "        text-align: right;\n",
       "    }\n",
       "</style>\n",
       "<table border=\"1\" class=\"dataframe\">\n",
       "  <thead>\n",
       "    <tr style=\"text-align: right;\">\n",
       "      <th></th>\n",
       "      <th>ticker</th>\n",
       "      <th>Open</th>\n",
       "      <th>High</th>\n",
       "      <th>Low</th>\n",
       "      <th>Close</th>\n",
       "      <th>Adj Close</th>\n",
       "      <th>Volume</th>\n",
       "    </tr>\n",
       "    <tr>\n",
       "      <th>Date</th>\n",
       "      <th></th>\n",
       "      <th></th>\n",
       "      <th></th>\n",
       "      <th></th>\n",
       "      <th></th>\n",
       "      <th></th>\n",
       "      <th></th>\n",
       "    </tr>\n",
       "  </thead>\n",
       "  <tbody>\n",
       "    <tr>\n",
       "      <th>2018-01-02</th>\n",
       "      <td>SCATC.OL</td>\n",
       "      <td>50.000000</td>\n",
       "      <td>50.500000</td>\n",
       "      <td>49.650002</td>\n",
       "      <td>50.000000</td>\n",
       "      <td>45.761971</td>\n",
       "      <td>125436</td>\n",
       "    </tr>\n",
       "    <tr>\n",
       "      <th>2018-01-03</th>\n",
       "      <td>SCATC.OL</td>\n",
       "      <td>50.000000</td>\n",
       "      <td>50.200001</td>\n",
       "      <td>49.099998</td>\n",
       "      <td>50.000000</td>\n",
       "      <td>45.761971</td>\n",
       "      <td>217138</td>\n",
       "    </tr>\n",
       "    <tr>\n",
       "      <th>2018-01-04</th>\n",
       "      <td>SCATC.OL</td>\n",
       "      <td>50.000000</td>\n",
       "      <td>50.000000</td>\n",
       "      <td>49.299999</td>\n",
       "      <td>49.849998</td>\n",
       "      <td>45.624683</td>\n",
       "      <td>135195</td>\n",
       "    </tr>\n",
       "    <tr>\n",
       "      <th>2018-01-05</th>\n",
       "      <td>SCATC.OL</td>\n",
       "      <td>49.849998</td>\n",
       "      <td>50.200001</td>\n",
       "      <td>49.799999</td>\n",
       "      <td>49.950001</td>\n",
       "      <td>45.716209</td>\n",
       "      <td>206918</td>\n",
       "    </tr>\n",
       "    <tr>\n",
       "      <th>2018-01-08</th>\n",
       "      <td>SCATC.OL</td>\n",
       "      <td>50.000000</td>\n",
       "      <td>50.200001</td>\n",
       "      <td>49.799999</td>\n",
       "      <td>49.950001</td>\n",
       "      <td>45.716209</td>\n",
       "      <td>175574</td>\n",
       "    </tr>\n",
       "    <tr>\n",
       "      <th>...</th>\n",
       "      <td>...</td>\n",
       "      <td>...</td>\n",
       "      <td>...</td>\n",
       "      <td>...</td>\n",
       "      <td>...</td>\n",
       "      <td>...</td>\n",
       "      <td>...</td>\n",
       "    </tr>\n",
       "    <tr>\n",
       "      <th>2022-11-08</th>\n",
       "      <td>SCATC.OL</td>\n",
       "      <td>83.000000</td>\n",
       "      <td>83.800003</td>\n",
       "      <td>81.860001</td>\n",
       "      <td>83.779999</td>\n",
       "      <td>83.779999</td>\n",
       "      <td>287920</td>\n",
       "    </tr>\n",
       "    <tr>\n",
       "      <th>2022-11-09</th>\n",
       "      <td>SCATC.OL</td>\n",
       "      <td>84.019997</td>\n",
       "      <td>85.400002</td>\n",
       "      <td>82.019997</td>\n",
       "      <td>82.320000</td>\n",
       "      <td>82.320000</td>\n",
       "      <td>282681</td>\n",
       "    </tr>\n",
       "    <tr>\n",
       "      <th>2022-11-10</th>\n",
       "      <td>SCATC.OL</td>\n",
       "      <td>84.000000</td>\n",
       "      <td>92.260002</td>\n",
       "      <td>81.000000</td>\n",
       "      <td>92.099998</td>\n",
       "      <td>92.099998</td>\n",
       "      <td>1109388</td>\n",
       "    </tr>\n",
       "    <tr>\n",
       "      <th>2022-11-11</th>\n",
       "      <td>SCATC.OL</td>\n",
       "      <td>92.980003</td>\n",
       "      <td>93.400002</td>\n",
       "      <td>89.099998</td>\n",
       "      <td>90.019997</td>\n",
       "      <td>90.019997</td>\n",
       "      <td>492520</td>\n",
       "    </tr>\n",
       "    <tr>\n",
       "      <th>2022-11-14</th>\n",
       "      <td>SCATC.OL</td>\n",
       "      <td>90.900002</td>\n",
       "      <td>90.900002</td>\n",
       "      <td>87.739998</td>\n",
       "      <td>88.839996</td>\n",
       "      <td>88.839996</td>\n",
       "      <td>256439</td>\n",
       "    </tr>\n",
       "  </tbody>\n",
       "</table>\n",
       "<p>1222 rows × 7 columns</p>\n",
       "</div>"
      ],
      "text/plain": [
       "              ticker       Open       High        Low      Close  Adj Close  \\\n",
       "Date                                                                          \n",
       "2018-01-02  SCATC.OL  50.000000  50.500000  49.650002  50.000000  45.761971   \n",
       "2018-01-03  SCATC.OL  50.000000  50.200001  49.099998  50.000000  45.761971   \n",
       "2018-01-04  SCATC.OL  50.000000  50.000000  49.299999  49.849998  45.624683   \n",
       "2018-01-05  SCATC.OL  49.849998  50.200001  49.799999  49.950001  45.716209   \n",
       "2018-01-08  SCATC.OL  50.000000  50.200001  49.799999  49.950001  45.716209   \n",
       "...              ...        ...        ...        ...        ...        ...   \n",
       "2022-11-08  SCATC.OL  83.000000  83.800003  81.860001  83.779999  83.779999   \n",
       "2022-11-09  SCATC.OL  84.019997  85.400002  82.019997  82.320000  82.320000   \n",
       "2022-11-10  SCATC.OL  84.000000  92.260002  81.000000  92.099998  92.099998   \n",
       "2022-11-11  SCATC.OL  92.980003  93.400002  89.099998  90.019997  90.019997   \n",
       "2022-11-14  SCATC.OL  90.900002  90.900002  87.739998  88.839996  88.839996   \n",
       "\n",
       "             Volume  \n",
       "Date                 \n",
       "2018-01-02   125436  \n",
       "2018-01-03   217138  \n",
       "2018-01-04   135195  \n",
       "2018-01-05   206918  \n",
       "2018-01-08   175574  \n",
       "...             ...  \n",
       "2022-11-08   287920  \n",
       "2022-11-09   282681  \n",
       "2022-11-10  1109388  \n",
       "2022-11-11   492520  \n",
       "2022-11-14   256439  \n",
       "\n",
       "[1222 rows x 7 columns]"
      ]
     },
     "execution_count": 8,
     "metadata": {},
     "output_type": "execute_result"
    }
   ],
   "source": [
    "# Download prices from Yahoo Finance\n",
    "ticker = \"SCATC.OL\"\n",
    "interval = \"1d\"\n",
    "start = dt.datetime(2018,1,1)\n",
    "end = dt.datetime.today()\n",
    "prices = yf.download(ticker, start, end, interval=interval)\n",
    "prices[\"ticker\"] = ticker\n",
    "cols = prices.columns.tolist()\n",
    "cols = cols[-1:] + cols[:-1]\n",
    "prices = prices[cols]\n",
    "prices"
   ]
  },
  {
   "cell_type": "code",
   "execution_count": 13,
   "id": "0f96ecd0-f958-4b94-8fa4-ede0fa197d64",
   "metadata": {},
   "outputs": [],
   "source": [
    "prices_2 = yf.Ticker(\"SCATC.OL\").history(\"max\")\n"
   ]
  },
  {
   "cell_type": "code",
   "execution_count": 4,
   "id": "92880887-0969-442c-82b8-954643d26788",
   "metadata": {},
   "outputs": [],
   "source": [
    "import sqlite3"
   ]
  },
  {
   "cell_type": "code",
   "execution_count": 9,
   "id": "115315c8-e39a-48a9-9061-73c775ff2957",
   "metadata": {},
   "outputs": [
    {
     "data": {
      "text/plain": [
       "1222"
      ]
     },
     "execution_count": 9,
     "metadata": {},
     "output_type": "execute_result"
    }
   ],
   "source": [
    "con = sqlite3.connect(\"../data/stockanalysis.db\")\n",
    "# prices.to_sql(\"prices\", con, if_exists=\"replace\")\n",
    "prices.to_sql(\"prices\", con, if_exists=\"append\")"
   ]
  },
  {
   "cell_type": "code",
   "execution_count": 19,
   "id": "198a43ce-e939-489e-b6d3-5c1746379eca",
   "metadata": {},
   "outputs": [],
   "source": [
    "prices[\"log returns\"] = np.log(prices[\"Adj Close\"]) - np.log(prices[\"Adj Close\"].shift(1))"
   ]
  },
  {
   "cell_type": "code",
   "execution_count": 20,
   "id": "23d45dcf-78c2-4578-98e0-de9498132b8d",
   "metadata": {},
   "outputs": [],
   "source": [
    "prices[\"returns\"] = prices[\"Adj Close\"].pct_change()"
   ]
  },
  {
   "cell_type": "code",
   "execution_count": 21,
   "id": "d68898e3-e198-4608-bff6-4e7c3715a063",
   "metadata": {},
   "outputs": [
    {
     "data": {
      "text/plain": [
       "<AxesSubplot: xlabel='Date'>"
      ]
     },
     "execution_count": 21,
     "metadata": {},
     "output_type": "execute_result"
    },
    {
     "data": {
      "image/png": "[encoded data removed]",
      "text/plain": [
       "<Figure size 640x480 with 1 Axes>"
      ]
     },
     "metadata": {},
     "output_type": "display_data"
    }
   ],
   "source": [
    "prices[\"Adj Close\"].plot()"
   ]
  },
  {
   "cell_type": "code",
   "execution_count": 23,
   "id": "899d8d1b-b9b3-4ba6-9623-f7252d856783",
   "metadata": {},
   "outputs": [
    {
     "data": {
      "text/plain": [
       "<AxesSubplot: >"
      ]
     },
     "execution_count": 23,
     "metadata": {},
     "output_type": "execute_result"
    },
    {
     "data": {
      "image/png": "[encoded data removed]",
      "text/plain": [
       "<Figure size 640x480 with 1 Axes>"
      ]
     },
     "metadata": {},
     "output_type": "display_data"
    }
   ],
   "source": [
    "prices[\"log returns\"].hist(bins=100)"
   ]
  }
 ],
 "metadata": {
  "kernelspec": {
   "display_name": "Python 3.10.3 64-bit",
   "language": "python",
   "name": "python3"
  },
  "language_info": {
   "codemirror_mode": {
    "name": "ipython",
    "version": 3
   },
   "file_extension": ".py",
   "mimetype": "text/x-python",
   "name": "python",
   "nbconvert_exporter": "python",
   "pygments_lexer": "ipython3",
   "version": "3.10.3"
  },
  "vscode": {
   "interpreter": {
    "hash": "26de051ba29f2982a8de78e945f0abaf191376122a1563185a90213a26c5da77"
   }
  }
 },
 "nbformat": 4,
 "nbformat_minor": 5
}
